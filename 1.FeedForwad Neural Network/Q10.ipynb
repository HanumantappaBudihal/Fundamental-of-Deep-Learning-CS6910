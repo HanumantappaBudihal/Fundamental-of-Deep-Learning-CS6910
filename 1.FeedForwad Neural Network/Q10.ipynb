{
 "cells": [
  {
   "cell_type": "code",
   "execution_count": 1,
   "id": "be1c2ff5",
   "metadata": {},
   "outputs": [],
   "source": [
    "import numpy as np\n",
    "from TensorKit.Layers import *\n",
    "from TensorKit.Models import *\n",
    "from TensorKit.Optimizers import *\n",
    "from sklearn.model_selection import train_test_split\n",
    "from tensorflow.keras.datasets.mnist import load_data\n",
    "np.random.seed(42)\n",
    "\n",
    "convert_to_one_hot = lambda y : np.eye(y.max() + 1)[y]\n",
    "normalize = lambda x : (x - x.mean(axis=1, keepdims=True))/x.std(axis=1, keepdims=True)"
   ]
  },
  {
   "cell_type": "code",
   "execution_count": 2,
   "id": "0c12b078",
   "metadata": {},
   "outputs": [],
   "source": [
    "(trainX, trainy), (testX, testy) = load_data()\n",
    "trainX, valX, trainy, valy = train_test_split(trainX, trainy, test_size=0.1, shuffle=True)\n",
    "\n",
    "trainX = normalize(trainX.reshape(trainX.shape[0], -1))\n",
    "testX = normalize(testX.reshape(testX.shape[0], -1))\n",
    "valX = normalize(valX.reshape(valX.shape[0], -1))\n",
    "\n",
    "trainy = convert_to_one_hot(trainy)\n",
    "testy = convert_to_one_hot(testy)\n",
    "valy = convert_to_one_hot(valy)"
   ]
  },
  {
   "cell_type": "markdown",
   "id": "acc3df6e",
   "metadata": {},
   "source": [
    "### Hyperparam configuration - 1"
   ]
  },
  {
   "cell_type": "code",
   "execution_count": 3,
   "id": "b02508ad",
   "metadata": {},
   "outputs": [
    {
     "name": "stdout",
     "output_type": "stream",
     "text": [
      "epoch 1/15:\ttrain_loss: 0.1143, train_accuracy: 0.9646, val_loss: 0.1248, val_accuracy: 0.9600\n",
      "epoch 2/15:\ttrain_loss: 0.0735, train_accuracy: 0.9780, val_loss: 0.0908, val_accuracy: 0.9710\n",
      "epoch 3/15:\ttrain_loss: 0.0535, train_accuracy: 0.9848, val_loss: 0.0763, val_accuracy: 0.9765\n",
      "epoch 4/15:\ttrain_loss: 0.0432, train_accuracy: 0.9877, val_loss: 0.0726, val_accuracy: 0.9772\n",
      "epoch 5/15:\ttrain_loss: 0.0357, train_accuracy: 0.9906, val_loss: 0.0708, val_accuracy: 0.9775\n",
      "epoch 6/15:\ttrain_loss: 0.0301, train_accuracy: 0.9923, val_loss: 0.0691, val_accuracy: 0.9783\n",
      "epoch 7/15:\ttrain_loss: 0.0259, train_accuracy: 0.9937, val_loss: 0.0648, val_accuracy: 0.9795\n",
      "epoch 8/15:\ttrain_loss: 0.0212, train_accuracy: 0.9952, val_loss: 0.0624, val_accuracy: 0.9795\n",
      "epoch 9/15:\ttrain_loss: 0.0186, train_accuracy: 0.9963, val_loss: 0.0580, val_accuracy: 0.9825\n",
      "epoch 10/15:\ttrain_loss: 0.0187, train_accuracy: 0.9957, val_loss: 0.0634, val_accuracy: 0.9802\n",
      "epoch 11/15:\ttrain_loss: 0.0148, train_accuracy: 0.9975, val_loss: 0.0595, val_accuracy: 0.9823\n",
      "epoch 12/15:\ttrain_loss: 0.0146, train_accuracy: 0.9978, val_loss: 0.0599, val_accuracy: 0.9813\n",
      "epoch 13/15:\ttrain_loss: 0.0124, train_accuracy: 0.9981, val_loss: 0.0594, val_accuracy: 0.9810\n",
      "epoch 14/15:\ttrain_loss: 0.0110, train_accuracy: 0.9987, val_loss: 0.0594, val_accuracy: 0.9815\n",
      "epoch 15/15:\ttrain_loss: 0.0109, train_accuracy: 0.9988, val_loss: 0.0583, val_accuracy: 0.9813\n",
      "\n",
      "\n",
      "test_loss: 0.0679, test_accuracy: 0.9792\n"
     ]
    }
   ],
   "source": [
    "hn = 128\n",
    "hl = 3\n",
    "l2 = 0.05\n",
    "bs = 64\n",
    "lr = 0.01\n",
    "epochs = 15\n",
    "w_init = \"xavier\"\n",
    "activation = \"leaky_relu\"\n",
    "optimizer = Adagrad(lr=lr)\n",
    "\n",
    "model = Sequential()\n",
    "model.add(Dense(trainX.shape[1], hn, activation=activation, initialization=w_init))\n",
    "for _ in range(hl):\n",
    "    model.add(Dense(hn, hn, activation=activation, initialization=w_init))\n",
    "model.add(Dense(hn, trainy.shape[1], activation=\"softmax\", initialization=w_init))\n",
    "model.compile(optimizer=optimizer, loss=\"categorical_crossentropy\", weight_decay=l2)\n",
    "model.fit(trainX, trainy, batch_size=bs, epochs=epochs, validation_data=(valX, valy))\n",
    "loss, acc = model.evaluate(testX, testy, batch_size=bs)\n",
    "print(f\"test_loss: {loss:.4f}, test_accuracy: {acc:.4f}\")"
   ]
  },
  {
   "cell_type": "markdown",
   "id": "b0b935fd",
   "metadata": {},
   "source": [
    "### Hyperparam configuration - 2"
   ]
  },
  {
   "cell_type": "code",
   "execution_count": 4,
   "id": "2738c9ae",
   "metadata": {},
   "outputs": [
    {
     "name": "stdout",
     "output_type": "stream",
     "text": [
      "epoch 1/15:\ttrain_loss: 0.1595, train_accuracy: 0.9521, val_loss: 0.1715, val_accuracy: 0.9480\n",
      "epoch 2/15:\ttrain_loss: 0.0985, train_accuracy: 0.9707, val_loss: 0.1216, val_accuracy: 0.9628\n",
      "epoch 3/15:\ttrain_loss: 0.0774, train_accuracy: 0.9771, val_loss: 0.1073, val_accuracy: 0.9675\n",
      "epoch 4/15:\ttrain_loss: 0.0618, train_accuracy: 0.9801, val_loss: 0.0896, val_accuracy: 0.9717\n",
      "epoch 5/15:\ttrain_loss: 0.0451, train_accuracy: 0.9868, val_loss: 0.0828, val_accuracy: 0.9740\n",
      "epoch 6/15:\ttrain_loss: 0.0350, train_accuracy: 0.9897, val_loss: 0.0778, val_accuracy: 0.9750\n",
      "epoch 7/15:\ttrain_loss: 0.0339, train_accuracy: 0.9893, val_loss: 0.0797, val_accuracy: 0.9747\n",
      "epoch 8/15:\ttrain_loss: 0.0235, train_accuracy: 0.9930, val_loss: 0.0813, val_accuracy: 0.9767\n",
      "epoch 9/15:\ttrain_loss: 0.0223, train_accuracy: 0.9934, val_loss: 0.0858, val_accuracy: 0.9748\n",
      "epoch 10/15:\ttrain_loss: 0.0218, train_accuracy: 0.9931, val_loss: 0.0867, val_accuracy: 0.9760\n",
      "epoch 11/15:\ttrain_loss: 0.0182, train_accuracy: 0.9941, val_loss: 0.0806, val_accuracy: 0.9767\n",
      "epoch 12/15:\ttrain_loss: 0.0125, train_accuracy: 0.9960, val_loss: 0.0789, val_accuracy: 0.9767\n",
      "epoch 13/15:\ttrain_loss: 0.0121, train_accuracy: 0.9962, val_loss: 0.0839, val_accuracy: 0.9780\n",
      "epoch 14/15:\ttrain_loss: 0.0114, train_accuracy: 0.9962, val_loss: 0.0770, val_accuracy: 0.9803\n",
      "epoch 15/15:\ttrain_loss: 0.0176, train_accuracy: 0.9940, val_loss: 0.0960, val_accuracy: 0.9777\n",
      "\n",
      "\n",
      "test_loss: 0.1121, test_accuracy: 0.9737\n"
     ]
    }
   ],
   "source": [
    "hn = 128\n",
    "hl = 4\n",
    "l2 = 0.\n",
    "bs = 16\n",
    "lr = 0.0001\n",
    "epochs = 15\n",
    "w_init = \"xavier\"\n",
    "activation = \"leaky_relu\"\n",
    "optimizer = Adam(lr=lr)\n",
    "\n",
    "model = Sequential()\n",
    "model.add(Dense(trainX.shape[1], hn, activation=activation, initialization=w_init))\n",
    "for _ in range(hl):\n",
    "    model.add(Dense(hn, hn, activation=activation, initialization=w_init))\n",
    "model.add(Dense(hn, trainy.shape[1], activation=\"softmax\", initialization=w_init))\n",
    "model.compile(optimizer=optimizer, loss=\"categorical_crossentropy\", weight_decay=l2)\n",
    "model.fit(trainX, trainy, batch_size=bs, epochs=epochs, validation_data=(valX, valy))\n",
    "loss, acc = model.evaluate(testX, testy, batch_size=bs)\n",
    "print(f\"test_loss: {loss:.4f}, test_accuracy: {acc:.4f}\")"
   ]
  },
  {
   "cell_type": "markdown",
   "id": "7a99cefd",
   "metadata": {},
   "source": [
    "### Hyperparam configuration - 3"
   ]
  },
  {
   "cell_type": "code",
   "execution_count": 5,
   "id": "72787d04",
   "metadata": {},
   "outputs": [
    {
     "name": "stdout",
     "output_type": "stream",
     "text": [
      "epoch 1/10:\ttrain_loss: 0.1333, train_accuracy: 0.9601, val_loss: 0.1403, val_accuracy: 0.9565\n",
      "epoch 2/10:\ttrain_loss: 0.1020, train_accuracy: 0.9701, val_loss: 0.1144, val_accuracy: 0.9650\n",
      "epoch 3/10:\ttrain_loss: 0.0862, train_accuracy: 0.9745, val_loss: 0.1027, val_accuracy: 0.9673\n",
      "epoch 4/10:\ttrain_loss: 0.0739, train_accuracy: 0.9782, val_loss: 0.0970, val_accuracy: 0.9707\n",
      "epoch 5/10:\ttrain_loss: 0.0626, train_accuracy: 0.9816, val_loss: 0.0884, val_accuracy: 0.9727\n",
      "epoch 6/10:\ttrain_loss: 0.0574, train_accuracy: 0.9839, val_loss: 0.0857, val_accuracy: 0.9743\n",
      "epoch 7/10:\ttrain_loss: 0.0480, train_accuracy: 0.9865, val_loss: 0.0797, val_accuracy: 0.9755\n",
      "epoch 8/10:\ttrain_loss: 0.0453, train_accuracy: 0.9877, val_loss: 0.0803, val_accuracy: 0.9757\n",
      "epoch 9/10:\ttrain_loss: 0.0420, train_accuracy: 0.9883, val_loss: 0.0800, val_accuracy: 0.9760\n",
      "epoch 10/10:\ttrain_loss: 0.0399, train_accuracy: 0.9890, val_loss: 0.0833, val_accuracy: 0.9758\n",
      "\n",
      "\n",
      "test_loss: 0.0799, test_accuracy: 0.9749\n"
     ]
    }
   ],
   "source": [
    "hn = 64\n",
    "hl = 4\n",
    "l2 = 0.05\n",
    "bs = 64\n",
    "lr = 0.01\n",
    "epochs = 10\n",
    "w_init = \"xavier\"\n",
    "activation = \"relu\"\n",
    "optimizer = Adagrad(lr=lr)\n",
    "\n",
    "model = Sequential()\n",
    "model.add(Dense(trainX.shape[1], hn, activation=activation, initialization=w_init))\n",
    "for _ in range(hl):\n",
    "    model.add(Dense(hn, hn, activation=activation, initialization=w_init))\n",
    "model.add(Dense(hn, trainy.shape[1], activation=\"softmax\", initialization=w_init))\n",
    "model.compile(optimizer=optimizer, loss=\"categorical_crossentropy\", weight_decay=l2)\n",
    "model.fit(trainX, trainy, batch_size=bs, epochs=epochs, validation_data=(valX, valy))\n",
    "loss, acc = model.evaluate(testX, testy, batch_size=bs)\n",
    "print(f\"test_loss: {loss:.4f}, test_accuracy: {acc:.4f}\")"
   ]
  }
 ],
 "metadata": {
  "kernelspec": {
   "display_name": "Python 3 (ipykernel)",
   "language": "python",
   "name": "python3"
  },
  "language_info": {
   "codemirror_mode": {
    "name": "ipython",
    "version": 3
   },
   "file_extension": ".py",
   "mimetype": "text/x-python",
   "name": "python",
   "nbconvert_exporter": "python",
   "pygments_lexer": "ipython3",
   "version": "3.10.2"
  }
 },
 "nbformat": 4,
 "nbformat_minor": 5
}
