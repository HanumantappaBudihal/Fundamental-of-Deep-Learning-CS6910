{
 "cells": [
  {
   "cell_type": "code",
   "execution_count": 1,
   "id": "8c5431da",
   "metadata": {},
   "outputs": [],
   "source": [
    "import wandb\n",
    "from TensorKit.Layers import *\n",
    "from TensorKit.Models import *\n",
    "from TensorKit.Optimizers import *\n",
    "from sklearn.model_selection import train_test_split\n",
    "from tensorflow.keras.datasets.fashion_mnist import load_data\n",
    "\n",
    "np.random.seed(42)\n",
    "\n",
    "convert_to_one_hot = lambda y : np.eye(y.max() + 1)[y]\n",
    "normalize = lambda x : (x - x.mean(axis=1, keepdims=True))/x.std(axis=1, keepdims=True)"
   ]
  },
  {
   "cell_type": "code",
   "execution_count": 2,
   "id": "7807a7bb",
   "metadata": {},
   "outputs": [],
   "source": [
    "names = [\"T-shirt\", \"Trouser\", \"Pullover\", \"Dress\", \"Coat\", \"Sandal\", \"Shirt\", \"Sneaker\", \"Bag\", \"Ankle boot\"]"
   ]
  },
  {
   "cell_type": "code",
   "execution_count": 3,
   "id": "2a9a575c",
   "metadata": {},
   "outputs": [],
   "source": [
    "## BEST PARAMETERES ##\n",
    "lr = 0.01\n",
    "hl = 3\n",
    "hn = 128\n",
    "bs = 64\n",
    "act = \"leaky_relu\"\n",
    "opt = Adagrad(lr=lr)\n",
    "l2 = 0.05\n",
    "w_init = \"xavier\"\n",
    "epochs = 15"
   ]
  },
  {
   "cell_type": "code",
   "execution_count": 4,
   "id": "37251a64",
   "metadata": {},
   "outputs": [],
   "source": [
    "(trainX, trainy), (testX, testy) = load_data()\n",
    "trainX, valX, trainy, valy = train_test_split(trainX, trainy, test_size=0.1, shuffle=True)\n",
    "\n",
    "trainX = normalize(trainX.reshape(trainX.shape[0], -1))\n",
    "testX = normalize(testX.reshape(testX.shape[0], -1))\n",
    "valX = normalize(valX.reshape(valX.shape[0], -1))\n",
    "\n",
    "testy_cat = testy # for plotting confusion matrix\n",
    "trainy = convert_to_one_hot(trainy)\n",
    "testy = convert_to_one_hot(testy)\n",
    "valy = convert_to_one_hot(valy)"
   ]
  },
  {
   "cell_type": "code",
   "execution_count": 5,
   "id": "030cc11d",
   "metadata": {},
   "outputs": [
    {
     "name": "stdout",
     "output_type": "stream",
     "text": [
      "epoch 1/15:\ttrain_loss: 0.3485, train_accuracy: 0.8730, val_loss: 0.3627, val_accuracy: 0.8655\n",
      "epoch 2/15:\ttrain_loss: 0.3012, train_accuracy: 0.8905, val_loss: 0.3287, val_accuracy: 0.8813\n",
      "epoch 3/15:\ttrain_loss: 0.2858, train_accuracy: 0.8954, val_loss: 0.3219, val_accuracy: 0.8797\n",
      "epoch 4/15:\ttrain_loss: 0.2591, train_accuracy: 0.9055, val_loss: 0.3069, val_accuracy: 0.8843\n",
      "epoch 5/15:\ttrain_loss: 0.2559, train_accuracy: 0.9057, val_loss: 0.3120, val_accuracy: 0.8827\n",
      "epoch 6/15:\ttrain_loss: 0.2469, train_accuracy: 0.9091, val_loss: 0.3137, val_accuracy: 0.8870\n",
      "epoch 7/15:\ttrain_loss: 0.2308, train_accuracy: 0.9154, val_loss: 0.3034, val_accuracy: 0.8895\n",
      "epoch 8/15:\ttrain_loss: 0.2268, train_accuracy: 0.9176, val_loss: 0.3089, val_accuracy: 0.8892\n",
      "epoch 9/15:\ttrain_loss: 0.2163, train_accuracy: 0.9212, val_loss: 0.3079, val_accuracy: 0.8893\n",
      "epoch 10/15:\ttrain_loss: 0.2041, train_accuracy: 0.9258, val_loss: 0.3021, val_accuracy: 0.8922\n",
      "epoch 11/15:\ttrain_loss: 0.2041, train_accuracy: 0.9260, val_loss: 0.3072, val_accuracy: 0.8888\n",
      "epoch 12/15:\ttrain_loss: 0.1955, train_accuracy: 0.9291, val_loss: 0.3007, val_accuracy: 0.8922\n",
      "epoch 13/15:\ttrain_loss: 0.1899, train_accuracy: 0.9303, val_loss: 0.3057, val_accuracy: 0.8935\n",
      "epoch 14/15:\ttrain_loss: 0.1780, train_accuracy: 0.9375, val_loss: 0.2970, val_accuracy: 0.8927\n",
      "epoch 15/15:\ttrain_loss: 0.1716, train_accuracy: 0.9406, val_loss: 0.2976, val_accuracy: 0.8947\n",
      "\n",
      "\n",
      "test_loss:0.3200, test_accuracy: 0.8877\n"
     ]
    }
   ],
   "source": [
    "model = Sequential()\n",
    "model.add(Dense(trainX.shape[1], hn, activation=act, initialization=w_init))\n",
    "for _ in range(hl):\n",
    "    model.add(Dense(hn, hn, activation=act, initialization=w_init))\n",
    "model.add(Dense(hn, trainy.shape[1], activation=\"softmax\", initialization=w_init))\n",
    "model.compile(optimizer=opt, loss=\"categorical_crossentropy\", weight_decay=l2)\n",
    "model.fit(trainX, trainy, epochs=epochs, batch_size=bs, validation_data=(valX, valy), wandb_log=False)\n",
    "\n",
    "test_loss, test_acc = model.evaluate(testX, testy, batch_size=bs)\n",
    "print(f\"test_loss:{test_loss:.4f}, test_accuracy: {test_acc:.4f}\")"
   ]
  },
  {
   "cell_type": "code",
   "execution_count": null,
   "id": "ce281ed0",
   "metadata": {},
   "outputs": [],
   "source": [
    "wandb.login()\n",
    "run = wandb.init(project=\"IITM-CS6910-Projects\", entity=\"cs21m070_cs21m022\")\n",
    "y_pred = model.predict(testX, batch_size=bs, predict_proba=False)\n",
    "wandb.sklearn.plot_confusion_matrix(testy_cat, y_pred, labels=names)\n",
    "run.finish()\n"
   ]
  },
  {
   "cell_type": "code",
   "execution_count": null,
   "id": "702a9529",
   "metadata": {},
   "outputs": [],
   "source": []
  }
 ],
 "metadata": {
  "kernelspec": {
   "display_name": "Python 3 (ipykernel)",
   "language": "python",
   "name": "python3"
  },
  "language_info": {
   "codemirror_mode": {
    "name": "ipython",
    "version": 3
   },
   "file_extension": ".py",
   "mimetype": "text/x-python",
   "name": "python",
   "nbconvert_exporter": "python",
   "pygments_lexer": "ipython3",
   "version": "3.10.2"
  }
 },
 "nbformat": 4,
 "nbformat_minor": 5
}
