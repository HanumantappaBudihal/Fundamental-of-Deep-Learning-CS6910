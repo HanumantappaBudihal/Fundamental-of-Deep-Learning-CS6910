{
 "cells": [
  {
   "cell_type": "code",
   "execution_count": 1,
   "metadata": {},
   "outputs": [],
   "source": [
    "import wandb\n",
    "import numpy as np\n",
    "from TensorKit.Layers import *\n",
    "from TensorKit.Models import *\n",
    "from TensorKit.Optimizers import *\n",
    "from sklearn.model_selection import train_test_split\n",
    "from tensorflow.keras.datasets.fashion_mnist import load_data\n",
    "np.random.seed(42)\n",
    "\n",
    "convert_to_one_hot = lambda y : np.eye(y.max() + 1)[y]\n",
    "normalize = lambda x : (x - x.mean(axis=1, keepdims=True))/x.std(axis=1, keepdims=True)"
   ]
  },
  {
   "cell_type": "code",
   "execution_count": 2,
   "metadata": {},
   "outputs": [],
   "source": [
    "(trainX, trainy), (testX, testy) = load_data()\n",
    "trainX, valX, trainy, valy = train_test_split(trainX, trainy, test_size=0.1, shuffle=True)\n",
    "\n",
    "trainX = normalize(trainX.reshape(trainX.shape[0], -1))\n",
    "testX = normalize(testX.reshape(testX.shape[0], -1))\n",
    "valX = normalize(valX.reshape(valX.shape[0], -1))\n",
    "\n",
    "trainy = convert_to_one_hot(trainy)\n",
    "testy = convert_to_one_hot(testy)\n",
    "valy = convert_to_one_hot(valy)"
   ]
  },
  {
   "cell_type": "code",
   "execution_count": 3,
   "metadata": {},
   "outputs": [],
   "source": [
    "def build_and_run_model(config=None):\n",
    "    run = wandb.init(config=config, magic=True)\n",
    "    config = wandb.config\n",
    "    wandb.run.name = (\n",
    "        f\"hl_{config.num_hidden_layers}\"\n",
    "        f\"_hn_{config.hidden_layer_size}\"\n",
    "        f\"_bs_{config.batch_size}\"\n",
    "        f\"_act_{config.activation}\"\n",
    "        f\"_opt_{config.optimizer}\"\n",
    "        f\"_l2_{config.l2}\"\n",
    "        f\"_init_{config.weight_init}\"\n",
    "    )\n",
    "    \n",
    "    optimizer = {\n",
    "        \"sgd\": SGD(lr=config.lr),\n",
    "        \"mgd\": SGD(lr=config.lr, momentum=0.9),\n",
    "        \"nag\": SGD(lr=config.lr, momentum=0.9, nesterov=True),\n",
    "        \"adagrad\": Adagrad(lr=config.lr),\n",
    "        \"rmsprop\":RMSprop(lr=config.lr),\n",
    "        \"adam\": Adam(lr=config.lr),\n",
    "        \"nadam\": Nadam(lr=config.lr)\n",
    "    }[config.optimizer]\n",
    "\n",
    "    model = Sequential()\n",
    "    model.add(Dense(trainX.shape[1], \n",
    "                    config.hidden_layer_size, \n",
    "                    activation=config.activation, \n",
    "                    initialization=config.weight_init))\n",
    "\n",
    "    for _ in range(config.num_hidden_layers):\n",
    "        model.add(Dense(config.hidden_layer_size, \n",
    "                        config.hidden_layer_size, \n",
    "                        activation=config.activation, \n",
    "                        initialization=config.weight_init))\n",
    "\n",
    "    model.add(Dense(config.hidden_layer_size, \n",
    "                    trainy.shape[1], \n",
    "                    activation=\"softmax\", \n",
    "                    initialization=config.weight_init))\n",
    "\n",
    "    model.compile(loss=\"categorical_crossentropy\", \n",
    "                  optimizer=optimizer, \n",
    "                  weight_decay=config.l2)\n",
    "\n",
    "    model.fit(trainX, \n",
    "              trainy,\n",
    "              batch_size=config.batch_size, \n",
    "              epochs=config.epochs, \n",
    "              validation_data=(valX, valy),\n",
    "              wandb_log=True)\n",
    "    \n",
    "    run.finish()"
   ]
  },
  {
   "cell_type": "code",
   "execution_count": 4,
   "metadata": {},
   "outputs": [],
   "source": [
    "sweep_config = {\n",
    "    'method': 'random',\n",
    "    'metric': {\n",
    "        'name': 'val_accuracy',\n",
    "        'goal': 'maximize'\n",
    "    },\n",
    "    'parameters': {\n",
    "        'activation': {\n",
    "            'values': ['relu', 'tanh', 'sigmoid', 'leaky_relu']\n",
    "        },\n",
    "        'lr': {\n",
    "            'values': [1e-2, 1e-3, 1e-4]\n",
    "        },\n",
    "        'batch_size': {\n",
    "            'values': [16, 32, 64, 128]\n",
    "        },\n",
    "        'hidden_layer_size': {\n",
    "            'values': [32, 64, 128]\n",
    "        },\n",
    "        'epochs': {\n",
    "            'values': [5, 10, 15]\n",
    "        },\n",
    "        'num_hidden_layers': {\n",
    "            'values': [3, 4, 5]\n",
    "        },\n",
    "        'optimizer': {\n",
    "            'values': ['sgd', 'mgd', 'nag', 'adagrad', 'rmsprop', 'adam', 'nadam']\n",
    "        },\n",
    "        'l2': {\n",
    "            'values': [0, 5e-2, 5e-3]\n",
    "        },\n",
    "        'weight_init': {\n",
    "            'values': ['xavier', 'random', 'normal']\n",
    "        }\n",
    "    }\n",
    "}"
   ]
  },
  {
   "cell_type": "code",
   "execution_count": 5,
   "metadata": {},
   "outputs": [
    {
     "name": "stderr",
     "output_type": "stream",
     "text": [
      "Failed to detect the name of this notebook, you can set it manually with the WANDB_NOTEBOOK_NAME environment variable to enable code saving.\n",
      "wandb: Currently logged in as: cs21m070_cs21m022 (use `wandb login --relogin` to force relogin)\n"
     ]
    },
    {
     "name": "stdout",
     "output_type": "stream",
     "text": [
      "Create sweep with ID: ww6ger72\n",
      "Sweep URL: https://wandb.ai/cs21m070_cs21m022/IITM-CS6910-Projects/sweeps/ww6ger72\n"
     ]
    },
    {
     "name": "stderr",
     "output_type": "stream",
     "text": [
      "wandb: Agent Starting Run: u8uh6p9f with config:\n",
      "wandb: \tactivation: leaky_relu\n",
      "wandb: \tbatch_size: 16\n",
      "wandb: \tepochs: 10\n",
      "wandb: \thidden_layer_size: 128\n",
      "wandb: \tl2: 0.05\n",
      "wandb: \tlr: 0.001\n",
      "wandb: \tnum_hidden_layers: 5\n",
      "wandb: \toptimizer: mgd\n",
      "wandb: \tweight_init: random\n",
      "Failed to detect the name of this notebook, you can set it manually with the WANDB_NOTEBOOK_NAME environment variable to enable code saving.\n"
     ]
    },
    {
     "data": {
      "text/html": [
       "\n",
       "                    Syncing run <strong><a href=\"https://wandb.ai/cs21m070_cs21m022/IITM-CS6910-Projects/runs/u8uh6p9f\" target=\"_blank\">drawn-sweep-1</a></strong> to <a href=\"https://wandb.ai/cs21m070_cs21m022/IITM-CS6910-Projects\" target=\"_blank\">Weights & Biases</a> (<a href=\"https://docs.wandb.com/integrations/jupyter.html\" target=\"_blank\">docs</a>).<br/>\n",
       "Sweep page: <a href=\"https://wandb.ai/cs21m070_cs21m022/IITM-CS6910-Projects/sweeps/ww6ger72\" target=\"_blank\">https://wandb.ai/cs21m070_cs21m022/IITM-CS6910-Projects/sweeps/ww6ger72</a><br/>\n",
       "\n",
       "                "
      ],
      "text/plain": [
       "<IPython.core.display.HTML object>"
      ]
     },
     "metadata": {},
     "output_type": "display_data"
    },
    {
     "data": {
      "text/html": [
       "Finishing last run (ID:u8uh6p9f) before initializing another..."
      ],
      "text/plain": [
       "<IPython.core.display.HTML object>"
      ]
     },
     "metadata": {},
     "output_type": "display_data"
    },
    {
     "data": {
      "text/html": [
       "<br/>Waiting for W&B process to finish, PID 20716... <strong style=\"color:green\">(success).</strong>"
      ],
      "text/plain": [
       "<IPython.core.display.HTML object>"
      ]
     },
     "metadata": {},
     "output_type": "display_data"
    },
    {
     "data": {
      "application/vnd.jupyter.widget-view+json": {
       "model_id": "0a0c7820f1fc467585d038184907f9d9",
       "version_major": 2,
       "version_minor": 0
      },
      "text/plain": [
       "VBox(children=(Label(value=' 0.00MB of 0.00MB uploaded (0.00MB deduped)\\r'), FloatProgress(value=1.0, max=1.0)…"
      ]
     },
     "metadata": {},
     "output_type": "display_data"
    },
    {
     "data": {
      "text/html": [
       "<style>\n",
       "    table.wandb td:nth-child(1) { padding: 0 10px; text-align: right }\n",
       "    .wandb-row { display: flex; flex-direction: row; flex-wrap: wrap; width: 100% }\n",
       "    .wandb-col { display: flex; flex-direction: column; flex-basis: 100%; flex: 1; padding: 10px; }\n",
       "    </style>\n",
       "<div class=\"wandb-row\"><div class=\"wandb-col\">\n",
       "</div><div class=\"wandb-col\">\n",
       "</div></div>\n",
       "Synced 5 W&B file(s), 0 media file(s), 0 artifact file(s) and 0 other file(s)\n",
       "<br/>Synced <strong style=\"color:#cdcd00\">drawn-sweep-1</strong>: <a href=\"https://wandb.ai/cs21m070_cs21m022/IITM-CS6910-Projects/runs/u8uh6p9f\" target=\"_blank\">https://wandb.ai/cs21m070_cs21m022/IITM-CS6910-Projects/runs/u8uh6p9f</a><br/>\n",
       "Find logs at: <code>.\\wandb\\run-20220225_201139-u8uh6p9f\\logs</code><br/>\n"
      ],
      "text/plain": [
       "<IPython.core.display.HTML object>"
      ]
     },
     "metadata": {},
     "output_type": "display_data"
    },
    {
     "data": {
      "text/html": [
       "Successfully finished last run (ID:u8uh6p9f). Initializing new run:<br/>"
      ],
      "text/plain": [
       "<IPython.core.display.HTML object>"
      ]
     },
     "metadata": {},
     "output_type": "display_data"
    }
   ],
   "source": [
    "wandb.login()\n",
    "sweep_id = wandb.sweep(sweep_config, project='IITM-CS6910-Projects',entity=\"cs21m070_cs21m022\")\n",
    "wandb.agent(sweep_id, function=build_and_run_model)"
   ]
  }
 ],
 "metadata": {
  "interpreter": {
   "hash": "65726d375d5b6cf5164973a765e3805d5aee5cecc65d8a26497d1aff194a80f9"
  },
  "kernelspec": {
   "display_name": "Python 3 (ipykernel)",
   "language": "python",
   "name": "python3"
  },
  "language_info": {
   "codemirror_mode": {
    "name": "ipython",
    "version": 3
   },
   "file_extension": ".py",
   "mimetype": "text/x-python",
   "name": "python",
   "nbconvert_exporter": "python",
   "pygments_lexer": "ipython3",
   "version": "3.9.10"
  }
 },
 "nbformat": 4,
 "nbformat_minor": 2
}
